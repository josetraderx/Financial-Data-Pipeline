{
 "cells": [
  {
   "cell_type": "markdown",
   "id": "8bf6ef46",
   "metadata": {},
   "source": [
    "# Exodus v2025: Modular Crypto Data Pipeline\n",
    "\n",
    "## Project Overview\n",
    "\n",
    "Exodus v2025 is a modular data pipeline system for financial data, focused on cryptocurrencies but easily adaptable to other asset classes. The project automates the acquisition, cleaning, validation, splitting, and storage of market data, ensuring high data quality, traceability, and reproducibility.\n",
    "\n",
    "## Key Features\n",
    "- **Data Acquisition:** Download historical price and volume data from providers like Bybit and Binance.\n",
    "- **Data Processing:** Clean, normalize, and enrich data with technical indicators.\n",
    "- **Validation:** Ensure data integrity and quality through automated validation steps.\n",
    "- **Data Splitting:** Prepare datasets for machine learning with flexible splitting strategies (chronological, random, sliding windows).\n",
    "- **Storage:** Store processed data in TimescaleDB/PostgreSQL and export to Parquet, CSV, or JSON files.\n",
    "- **Metadata Management:** Track dataset lineage and quality with structured metadata.\n",
    "- **Configuration Management:** Easily configure and orchestrate pipelines for different assets, timeframes, and storage options.\n",
    "- **Structured Logging:** All processes are logged for diagnostics, auditing, and monitoring.\n",
    "- **Automated Testing:** Includes unit and integration tests to ensure reliability.\n",
    "\n",
    "## Technologies Used\n",
    "- Python (Pandas, logging, pytest)\n",
    "- PostgreSQL / TimescaleDB\n",
    "- Modular architecture (providers, processing, validation, storage)\n",
    "\n",
    "## Example Workflow\n",
    "1. **Configure the pipeline:** Define which provider, symbol, timeframe, and validation rules to use.\n",
    "2. **Run the pipeline:** Automatically download, clean, validate, split, and store the data.\n",
    "3. **Review results:** Check logs, validation reports, and stored datasets for quality and completeness.\n",
    "\n",
    "## Why is this project valuable?\n",
    "- Demonstrates end-to-end data engineering skills: ETL, validation, storage, and automation.\n",
    "- Shows best practices in modular design, testing, and logging.\n",
    "- Ready to be extended for new data sources or analytics needs.\n",
    "\n",
    "## Repository\n",
    "[GitHub - Exodus v2025](https://github.com/your-username/exodus-v2025)\n",
    "\n",
    "---\n",
    "*Developed by Jose Acosta Available for junior data engineering and analytics roles.* "
   ]
  },
  {
   "cell_type": "code",
   "execution_count": 14,
   "id": "c2dd24dd",
   "metadata": {},
   "outputs": [
    {
     "ename": "ImportError",
     "evalue": "cannot import name 'BybitDownloader' from 'src.data.providers.crypto.bybit_downloader' (c:\\Users\\DataBridge\\Documents\\workspace\\Exodus_V2025\\src\\data\\providers\\crypto\\bybit_downloader.py)",
     "output_type": "error",
     "traceback": [
      "\u001b[31m---------------------------------------------------------------------------\u001b[39m",
      "\u001b[31mImportError\u001b[39m                               Traceback (most recent call last)",
      "\u001b[36mCell\u001b[39m\u001b[36m \u001b[39m\u001b[32mIn[14]\u001b[39m\u001b[32m, line 1\u001b[39m\n\u001b[32m----> \u001b[39m\u001b[32m1\u001b[39m \u001b[38;5;28;01mfrom\u001b[39;00m\u001b[38;5;250m \u001b[39m\u001b[34;01mpipelines\u001b[39;00m\u001b[34;01m.\u001b[39;00m\u001b[34;01mcrypto_pipeline\u001b[39;00m\u001b[38;5;250m \u001b[39m\u001b[38;5;28;01mimport\u001b[39;00m CryptoPipeline\n\u001b[32m      2\u001b[39m \u001b[38;5;28;01mfrom\u001b[39;00m\u001b[38;5;250m \u001b[39m\u001b[34;01mpipelines\u001b[39;00m\u001b[34;01m.\u001b[39;00m\u001b[34;01mconfig_manager\u001b[39;00m\u001b[38;5;250m \u001b[39m\u001b[38;5;28;01mimport\u001b[39;00m PipelineConfig\n",
      "\u001b[36mFile \u001b[39m\u001b[32mc:\\Users\\DataBridge\\Documents\\workspace\\Exodus_V2025\\src\\data\\pipelines\\__init__.py:5\u001b[39m\n\u001b[32m      1\u001b[39m \u001b[33;03m\"\"\"\u001b[39;00m\n\u001b[32m      2\u001b[39m \u001b[33;03m__init__.py for data pipelines module.\u001b[39;00m\n\u001b[32m      3\u001b[39m \u001b[33;03m\"\"\"\u001b[39;00m\n\u001b[32m----> \u001b[39m\u001b[32m5\u001b[39m \u001b[38;5;28;01mfrom\u001b[39;00m\u001b[38;5;250m \u001b[39m\u001b[34;01m.\u001b[39;00m\u001b[34;01mcrypto_pipeline\u001b[39;00m\u001b[38;5;250m \u001b[39m\u001b[38;5;28;01mimport\u001b[39;00m CryptoPipeline\n\u001b[32m      6\u001b[39m \u001b[38;5;28;01mfrom\u001b[39;00m\u001b[38;5;250m \u001b[39m\u001b[34;01m.\u001b[39;00m\u001b[34;01mconfig_manager\u001b[39;00m\u001b[38;5;250m \u001b[39m\u001b[38;5;28;01mimport\u001b[39;00m PipelineConfig\n\u001b[32m      8\u001b[39m __all__ = [\u001b[33m'\u001b[39m\u001b[33mCryptoPipeline\u001b[39m\u001b[33m'\u001b[39m, \u001b[33m'\u001b[39m\u001b[33mPipelineConfig\u001b[39m\u001b[33m'\u001b[39m]\n",
      "\u001b[36mFile \u001b[39m\u001b[32mc:\\Users\\DataBridge\\Documents\\workspace\\Exodus_V2025\\src\\data\\pipelines\\crypto_pipeline.py:17\u001b[39m\n\u001b[32m     14\u001b[39m \u001b[38;5;66;03m# Add src to path for imports\u001b[39;00m\n\u001b[32m     15\u001b[39m sys.path.append(\u001b[38;5;28mstr\u001b[39m(Path(\u001b[34m__file__\u001b[39m).parent.parent.parent.parent))\n\u001b[32m---> \u001b[39m\u001b[32m17\u001b[39m \u001b[38;5;28;01mfrom\u001b[39;00m\u001b[38;5;250m \u001b[39m\u001b[34;01msrc\u001b[39;00m\u001b[34;01m.\u001b[39;00m\u001b[34;01mdata\u001b[39;00m\u001b[34;01m.\u001b[39;00m\u001b[34;01mproviders\u001b[39;00m\u001b[34;01m.\u001b[39;00m\u001b[34;01mcrypto\u001b[39;00m\u001b[34;01m.\u001b[39;00m\u001b[34;01mbybit_downloader\u001b[39;00m\u001b[38;5;250m \u001b[39m\u001b[38;5;28;01mimport\u001b[39;00m BybitDownloader\n\u001b[32m     18\u001b[39m \u001b[38;5;28;01mfrom\u001b[39;00m\u001b[38;5;250m \u001b[39m\u001b[34;01msrc\u001b[39;00m\u001b[34;01m.\u001b[39;00m\u001b[34;01mdata\u001b[39;00m\u001b[34;01m.\u001b[39;00m\u001b[34;01mprocessing\u001b[39;00m\u001b[34;01m.\u001b[39;00m\u001b[34;01menhanced_metadata_manager\u001b[39;00m\u001b[38;5;250m \u001b[39m\u001b[38;5;28;01mimport\u001b[39;00m EnhancedMetadataManager\n\u001b[32m     19\u001b[39m \u001b[38;5;28;01mfrom\u001b[39;00m\u001b[38;5;250m \u001b[39m\u001b[34;01msrc\u001b[39;00m\u001b[34;01m.\u001b[39;00m\u001b[34;01mdata\u001b[39;00m\u001b[34;01m.\u001b[39;00m\u001b[34;01mprocessing\u001b[39;00m\u001b[34;01m.\u001b[39;00m\u001b[34;01mdata_cleaner\u001b[39;00m\u001b[38;5;250m \u001b[39m\u001b[38;5;28;01mimport\u001b[39;00m EnhancedDataValidator\n",
      "\u001b[36mFile \u001b[39m\u001b[32mc:\\Users\\DataBridge\\Documents\\workspace\\Exodus_V2025\\src\\data\\__init__.py:22\u001b[39m\n\u001b[32m     19\u001b[39m \u001b[38;5;28;01mfrom\u001b[39;00m\u001b[38;5;250m \u001b[39m\u001b[34;01m.\u001b[39;00m\u001b[34;01mvalidation\u001b[39;00m\u001b[34;01m.\u001b[39;00m\u001b[34;01mdata_processor\u001b[39;00m\u001b[38;5;250m \u001b[39m\u001b[38;5;28;01mimport\u001b[39;00m DataProcessor\n\u001b[32m     21\u001b[39m \u001b[38;5;66;03m# Pipeline\u001b[39;00m\n\u001b[32m---> \u001b[39m\u001b[32m22\u001b[39m \u001b[38;5;28;01mfrom\u001b[39;00m\u001b[38;5;250m \u001b[39m\u001b[34;01m.\u001b[39;00m\u001b[34;01mpipelines\u001b[39;00m\u001b[34;01m.\u001b[39;00m\u001b[34;01mcrypto_pipeline\u001b[39;00m\u001b[38;5;250m \u001b[39m\u001b[38;5;28;01mimport\u001b[39;00m CryptoPipeline\n\u001b[32m     24\u001b[39m __all__ = [\n\u001b[32m     25\u001b[39m     \u001b[33m'\u001b[39m\u001b[33mTimescaleDBConnector\u001b[39m\u001b[33m'\u001b[39m,\n\u001b[32m     26\u001b[39m     \u001b[33m'\u001b[39m\u001b[33mDataStorageManager\u001b[39m\u001b[33m'\u001b[39m,\n\u001b[32m   (...)\u001b[39m\u001b[32m     32\u001b[39m     \u001b[33m'\u001b[39m\u001b[33mCryptoPipeline\u001b[39m\u001b[33m'\u001b[39m\n\u001b[32m     33\u001b[39m ]\n",
      "\u001b[36mFile \u001b[39m\u001b[32mc:\\Users\\DataBridge\\Documents\\workspace\\Exodus_V2025\\src\\data\\pipelines\\__init__.py:5\u001b[39m\n\u001b[32m      1\u001b[39m \u001b[33;03m\"\"\"\u001b[39;00m\n\u001b[32m      2\u001b[39m \u001b[33;03m__init__.py for data pipelines module.\u001b[39;00m\n\u001b[32m      3\u001b[39m \u001b[33;03m\"\"\"\u001b[39;00m\n\u001b[32m----> \u001b[39m\u001b[32m5\u001b[39m \u001b[38;5;28;01mfrom\u001b[39;00m\u001b[38;5;250m \u001b[39m\u001b[34;01m.\u001b[39;00m\u001b[34;01mcrypto_pipeline\u001b[39;00m\u001b[38;5;250m \u001b[39m\u001b[38;5;28;01mimport\u001b[39;00m CryptoPipeline\n\u001b[32m      6\u001b[39m \u001b[38;5;28;01mfrom\u001b[39;00m\u001b[38;5;250m \u001b[39m\u001b[34;01m.\u001b[39;00m\u001b[34;01mconfig_manager\u001b[39;00m\u001b[38;5;250m \u001b[39m\u001b[38;5;28;01mimport\u001b[39;00m PipelineConfig\n\u001b[32m      8\u001b[39m __all__ = [\u001b[33m'\u001b[39m\u001b[33mCryptoPipeline\u001b[39m\u001b[33m'\u001b[39m, \u001b[33m'\u001b[39m\u001b[33mPipelineConfig\u001b[39m\u001b[33m'\u001b[39m]\n",
      "\u001b[36mFile \u001b[39m\u001b[32mc:\\Users\\DataBridge\\Documents\\workspace\\Exodus_V2025\\src\\data\\pipelines\\crypto_pipeline.py:17\u001b[39m\n\u001b[32m     14\u001b[39m \u001b[38;5;66;03m# Add src to path for imports\u001b[39;00m\n\u001b[32m     15\u001b[39m sys.path.append(\u001b[38;5;28mstr\u001b[39m(Path(\u001b[34m__file__\u001b[39m).parent.parent.parent.parent))\n\u001b[32m---> \u001b[39m\u001b[32m17\u001b[39m \u001b[38;5;28;01mfrom\u001b[39;00m\u001b[38;5;250m \u001b[39m\u001b[34;01msrc\u001b[39;00m\u001b[34;01m.\u001b[39;00m\u001b[34;01mdata\u001b[39;00m\u001b[34;01m.\u001b[39;00m\u001b[34;01mproviders\u001b[39;00m\u001b[34;01m.\u001b[39;00m\u001b[34;01mcrypto\u001b[39;00m\u001b[34;01m.\u001b[39;00m\u001b[34;01mbybit_downloader\u001b[39;00m\u001b[38;5;250m \u001b[39m\u001b[38;5;28;01mimport\u001b[39;00m BybitDownloader\n\u001b[32m     18\u001b[39m \u001b[38;5;28;01mfrom\u001b[39;00m\u001b[38;5;250m \u001b[39m\u001b[34;01msrc\u001b[39;00m\u001b[34;01m.\u001b[39;00m\u001b[34;01mdata\u001b[39;00m\u001b[34;01m.\u001b[39;00m\u001b[34;01mprocessing\u001b[39;00m\u001b[34;01m.\u001b[39;00m\u001b[34;01menhanced_metadata_manager\u001b[39;00m\u001b[38;5;250m \u001b[39m\u001b[38;5;28;01mimport\u001b[39;00m EnhancedMetadataManager\n\u001b[32m     19\u001b[39m \u001b[38;5;28;01mfrom\u001b[39;00m\u001b[38;5;250m \u001b[39m\u001b[34;01msrc\u001b[39;00m\u001b[34;01m.\u001b[39;00m\u001b[34;01mdata\u001b[39;00m\u001b[34;01m.\u001b[39;00m\u001b[34;01mprocessing\u001b[39;00m\u001b[34;01m.\u001b[39;00m\u001b[34;01mdata_cleaner\u001b[39;00m\u001b[38;5;250m \u001b[39m\u001b[38;5;28;01mimport\u001b[39;00m EnhancedDataValidator\n",
      "\u001b[31mImportError\u001b[39m: cannot import name 'BybitDownloader' from 'src.data.providers.crypto.bybit_downloader' (c:\\Users\\DataBridge\\Documents\\workspace\\Exodus_V2025\\src\\data\\providers\\crypto\\bybit_downloader.py)"
     ]
    }
   ],
   "source": [
    "from pipelines.crypto_pipeline import CryptoPipeline\n",
    "from pipelines.config_manager import PipelineConfig"
   ]
  },
  {
   "cell_type": "code",
   "execution_count": null,
   "id": "8bd16868",
   "metadata": {},
   "outputs": [
    {
     "name": "stdout",
     "output_type": "stream",
     "text": [
      "Requirement already satisfied: pandas in c:\\users\\databridge\\documents\\workspace\\torrent_p2p\\lib\\site-packages (2.3.1)\n",
      "Requirement already satisfied: numpy>=1.23.2 in c:\\users\\databridge\\documents\\workspace\\torrent_p2p\\lib\\site-packages (from pandas) (2.3.1)\n",
      "Requirement already satisfied: python-dateutil>=2.8.2 in c:\\users\\databridge\\documents\\workspace\\torrent_p2p\\lib\\site-packages (from pandas) (2.9.0.post0)\n",
      "Requirement already satisfied: pytz>=2020.1 in c:\\users\\databridge\\documents\\workspace\\torrent_p2p\\lib\\site-packages (from pandas) (2025.2)\n",
      "Requirement already satisfied: tzdata>=2022.7 in c:\\users\\databridge\\documents\\workspace\\torrent_p2p\\lib\\site-packages (from pandas) (2025.2)\n",
      "Requirement already satisfied: six>=1.5 in c:\\users\\databridge\\documents\\workspace\\torrent_p2p\\lib\\site-packages (from python-dateutil>=2.8.2->pandas) (1.17.0)\n",
      "Note: you may need to restart the kernel to use updated packages.\n"
     ]
    }
   ],
   "source": [
    "%pip install pandas"
   ]
  },
  {
   "cell_type": "code",
   "execution_count": null,
   "id": "e47467d6",
   "metadata": {},
   "outputs": [],
   "source": []
  },
  {
   "cell_type": "code",
   "execution_count": null,
   "id": "4ff05fea",
   "metadata": {},
   "outputs": [],
   "source": []
  },
  {
   "cell_type": "code",
   "execution_count": null,
   "id": "47da33ec",
   "metadata": {},
   "outputs": [],
   "source": []
  },
  {
   "cell_type": "code",
   "execution_count": null,
   "id": "8329ca17",
   "metadata": {},
   "outputs": [],
   "source": []
  },
  {
   "cell_type": "code",
   "execution_count": null,
   "id": "c3ac5235",
   "metadata": {},
   "outputs": [],
   "source": []
  },
  {
   "cell_type": "code",
   "execution_count": null,
   "id": "ee76e8e4",
   "metadata": {},
   "outputs": [],
   "source": []
  },
  {
   "cell_type": "code",
   "execution_count": null,
   "id": "47b206d2",
   "metadata": {},
   "outputs": [],
   "source": []
  },
  {
   "cell_type": "code",
   "execution_count": null,
   "id": "91587fbc",
   "metadata": {},
   "outputs": [],
   "source": []
  }
 ],
 "metadata": {
  "kernelspec": {
   "display_name": "Python (torrent_p2p)",
   "language": "python",
   "name": "torrent_p2p"
  },
  "language_info": {
   "codemirror_mode": {
    "name": "ipython",
    "version": 3
   },
   "file_extension": ".py",
   "mimetype": "text/x-python",
   "name": "python",
   "nbconvert_exporter": "python",
   "pygments_lexer": "ipython3",
   "version": "3.11.9"
  }
 },
 "nbformat": 4,
 "nbformat_minor": 5
}
